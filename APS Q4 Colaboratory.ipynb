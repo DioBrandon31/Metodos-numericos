{
  "cells": [
    {
      "cell_type": "markdown",
      "metadata": {
        "id": "view-in-github",
        "colab_type": "text"
      },
      "source": [
        "<a href=\"https://colab.research.google.com/github/DioBrandon31/Metodos-numericos/blob/main/APS%20Q4%20Colaboratory.ipynb\" target=\"_parent\"><img src=\"https://colab.research.google.com/assets/colab-badge.svg\" alt=\"Open In Colab\"/></a>"
      ]
    },
    {
      "cell_type": "code",
      "source": [
        "import numpy as np\n",
        "\n",
        "# Matriz A\n",
        "A = np.array([[3, 2, 7], [2, 5, 7], [7, 1, 8]])\n",
        "\n",
        "# Autovalores e autovetores de A\n",
        "autovalores, autovetores = np.linalg.eig(A)\n",
        "\n",
        "# Resultados\n",
        "print(\"Autovalores de A: \", autovalores)\n",
        "print(\"Autovetores de A: \\n\", autovetores)\n",
        "\n",
        "# Decomposição SVD de A\n",
        "U, S, Vt = np.linalg.svd(A)\n",
        "\n",
        "# Resultados\n",
        "print(\"Matriz U da decomposição SVD: \\n\", U)\n",
        "print(\"Matriz S da decomposição SVD: \", S)\n",
        "print(\"Matriz Vt da decomposição SVD: \\n\", Vt)"
      ],
      "metadata": {
        "colab": {
          "base_uri": "https://localhost:8080/"
        },
        "id": "vg8GPmfPiJHI",
        "outputId": "253b2855-508d-4400-e010-cb93740ddfa0"
      },
      "execution_count": 2,
      "outputs": [
        {
          "output_type": "stream",
          "name": "stdout",
          "text": [
            "Autovalores de A:  [14.35631335 -1.47439425  3.11808089]\n",
            "Autovetores de A: \n",
            " [[-0.49765377 -0.71770766 -0.05354039]\n",
            " [-0.58529731 -0.39690103 -0.96038303]\n",
            " [-0.64013107  0.57215844  0.27349199]]\n",
            "Matriz U da decomposição SVD: \n",
            " [[-0.51122121 -0.08505854 -0.85522975]\n",
            " [-0.53607734 -0.74623202  0.39466297]\n",
            " [-0.67176928  0.66022937  0.33589168]]\n",
            "Matriz S da decomposição SVD:  [15.29608356  4.36493456  0.98852112]\n",
            "Matriz Vt da decomposição SVD: \n",
            " [[-0.47778264 -0.28599467 -0.83062073]\n",
            " [ 0.6584213  -0.74251922 -0.12307149]\n",
            " [ 0.58155407  0.6056998  -0.54306778]]\n"
          ]
        }
      ]
    }
  ],
  "metadata": {
    "colab": {
      "toc_visible": true,
      "provenance": [],
      "include_colab_link": true
    },
    "kernelspec": {
      "display_name": "Python 3",
      "name": "python3"
    }
  },
  "nbformat": 4,
  "nbformat_minor": 0
}