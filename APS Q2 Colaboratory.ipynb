{
  "cells": [
    {
      "cell_type": "markdown",
      "metadata": {
        "id": "view-in-github",
        "colab_type": "text"
      },
      "source": [
        "<a href=\"https://colab.research.google.com/github/DioBrandon31/Metodos-numericos/blob/main/APS%20Q2%20Colaboratory.ipynb\" target=\"_parent\"><img src=\"https://colab.research.google.com/assets/colab-badge.svg\" alt=\"Open In Colab\"/></a>"
      ]
    },
    {
      "cell_type": "code",
      "source": [
        "#questão 2\n",
        "x = 10  # Valor inicial de x\n",
        "precision = 1e-06  # Precisão desejada\n",
        "delta = x  # Inicializando o delta com um valor arbitrário\n",
        "\n",
        "while delta >= precision:\n",
        "    x = x / 2  # Divisão por 2\n",
        "    delta = abs(x - (x/2))  # Cálculo do delta\n",
        "    print(f\"x = {x:.10f}\")  # Exibição do valor de x com 10 casas decimais\n",
        "    \n",
        "    \n"
      ],
      "metadata": {
        "id": "E9B-pNbxSaXd",
        "outputId": "4eb335e9-2b5a-4348-e8f8-c5a3d3b99cf7",
        "colab": {
          "base_uri": "https://localhost:8080/"
        }
      },
      "execution_count": 1,
      "outputs": [
        {
          "output_type": "stream",
          "name": "stdout",
          "text": [
            "x = 5.0000000000\n",
            "x = 2.5000000000\n",
            "x = 1.2500000000\n",
            "x = 0.6250000000\n",
            "x = 0.3125000000\n",
            "x = 0.1562500000\n",
            "x = 0.0781250000\n",
            "x = 0.0390625000\n",
            "x = 0.0195312500\n",
            "x = 0.0097656250\n",
            "x = 0.0048828125\n",
            "x = 0.0024414062\n",
            "x = 0.0012207031\n",
            "x = 0.0006103516\n",
            "x = 0.0003051758\n",
            "x = 0.0001525879\n",
            "x = 0.0000762939\n",
            "x = 0.0000381470\n",
            "x = 0.0000190735\n",
            "x = 0.0000095367\n",
            "x = 0.0000047684\n",
            "x = 0.0000023842\n",
            "x = 0.0000011921\n"
          ]
        }
      ]
    }
  ],
  "metadata": {
    "colab": {
      "name": "Olá, este é o Colaboratory",
      "toc_visible": true,
      "provenance": [],
      "include_colab_link": true
    },
    "kernelspec": {
      "display_name": "Python 3",
      "name": "python3"
    }
  },
  "nbformat": 4,
  "nbformat_minor": 0
}