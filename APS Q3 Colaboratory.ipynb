{
  "cells": [
    {
      "cell_type": "markdown",
      "metadata": {
        "id": "view-in-github",
        "colab_type": "text"
      },
      "source": [
        "<a href=\"https://colab.research.google.com/github/DioBrandon31/Metodos-numericos/blob/main/APS%20Q3%20Colaboratory.ipynb\" target=\"_parent\"><img src=\"https://colab.research.google.com/assets/colab-badge.svg\" alt=\"Open In Colab\"/></a>"
      ]
    },
    {
      "cell_type": "code",
      "source": [
        "def f(x):\n",
        "    return x**4 - 7*x**2 + x - 8\n",
        "\n",
        "def bisseccao(a, b, eps):\n",
        "    n = 0\n",
        "    while abs(b - a) > eps:\n",
        "        n += 1\n",
        "        m = (a + b) / 2\n",
        "        if f(m) == 0:\n",
        "            return m, n\n",
        "        elif f(m) * f(a) < 0:\n",
        "            b = m\n",
        "        else:\n",
        "            a = m\n",
        "    return (a + b) / 2, n\n",
        "\n",
        "def quase_newton(x0, eps):\n",
        "    n = 0\n",
        "    while True:\n",
        "        n += 1\n",
        "        fx = f(x0)\n",
        "        dfx = (f(x0 + eps) - fx) / eps\n",
        "        x1 = x0 - fx / dfx\n",
        "        if abs(x1 - x0) < eps:\n",
        "            break\n",
        "        x0 = x1\n",
        "    return x1, n\n",
        "\n",
        "a = -5\n",
        "b = 5\n",
        "eps = 1e-6\n",
        "x0 = 0.0\n",
        "\n",
        "# Método da bissecção\n",
        "raiz_bissec, n_bissec = bisseccao(a, b, eps)\n",
        "print(\"Método da Bissecção:\")\n",
        "print(\"Raiz aproximada:\", raiz_bissec)\n",
        "print(\"Número de iterações:\", n_bissec)\n",
        "\n",
        "# Método de quase-Newton\n",
        "raiz_newton, n_newton = quase_newton(x0, eps)\n",
        "print(\"Método de Quase-Newton:\")\n",
        "print(\"Raiz aproximada:\", raiz_newton)\n",
        "print(\"Número de iterações:\", n_newton)\n"
      ],
      "metadata": {
        "colab": {
          "base_uri": "https://localhost:8080/"
        },
        "id": "MtQbXLafZug6",
        "outputId": "91fd9831-323a-4b96-c33a-f60e875321e3"
      },
      "execution_count": 3,
      "outputs": [
        {
          "output_type": "stream",
          "name": "stdout",
          "text": [
            "Método da Bissecção:\n",
            "Raiz aproximada: -2.882644832134247\n",
            "Número de iterações: 24\n",
            "Método de Quase-Newton:\n",
            "Raiz aproximada: 2.7714147642087834\n",
            "Número de iterações: 10\n"
          ]
        }
      ]
    }
  ],
  "metadata": {
    "colab": {
      "toc_visible": true,
      "provenance": [],
      "include_colab_link": true
    },
    "kernelspec": {
      "display_name": "Python 3",
      "name": "python3"
    }
  },
  "nbformat": 4,
  "nbformat_minor": 0
}